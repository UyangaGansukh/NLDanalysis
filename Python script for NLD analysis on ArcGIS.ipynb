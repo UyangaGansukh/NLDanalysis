{
 "cells": [
  {
   "cell_type": "markdown",
   "metadata": {},
   "source": [
    "# Codes for some steps of NLD analysis"
   ]
  },
  {
   "cell_type": "markdown",
   "metadata": {},
   "source": [
    "Run these codes on Jupyter notebook within ArcGIS"
   ]
  },
  {
   "cell_type": "code",
   "execution_count": null,
   "metadata": {},
   "outputs": [],
   "source": [
    "import arcpy\n",
    "from arcpy.sa import *"
   ]
  },
  {
   "cell_type": "code",
   "execution_count": null,
   "metadata": {},
   "outputs": [],
   "source": [
    "list = [\"101992\", \"101993\", \"101994\", \"121994\", \"121995\", \"121996\", \"121997\", \"121998\", \"121999\", \"141997\", \"141998\", \"141999\", \"142000\", \"142001\", \"142002\", \"142003\", \"152000\", \"152001\", \"152002\", \"152003\", \"152004\", \"152005\", \"152006\", \"152007\", \"162004\", \"162005\", \"162006\", \"162007\", \"162008\", \"162009\", \"182010\", \"182011\", \"182012\", \"182013\", \"152013\", \"152014\", \"152015\", \"152016\", \"152017\", \"152018\", \"152019\", \"152020\", \"162016\", \"162017\", \"162018\", \"162019\", \"162020\", \"162021\"]"
   ]
  },
  {
   "cell_type": "code",
   "execution_count": null,
   "metadata": {},
   "outputs": [],
   "source": [
    "# 1. Clip the NLD using the selection on country boundary\n",
    "for i in list:\n",
    "    try:\n",
    "        raster = arcpy.Raster(\"F\"+str(i)+\".v4b.global.stable_lights.avg_vis.tif\")\n",
    "        country_boundary = \"gadm41_TJK_0\"\n",
    "        output = \"D:\\\\ArcGIS project\\\\A01V04 NLD\\\\A01V04 NLD\\\\A01V04 NLD.gdb\\\\F\"+str(i)+\"_TJ\"\n",
    "        arcpy.sa.ExtractByMask(raster, country_boundary, \"INSIDE\", \"67.3791656770001 36.670833487 75.137498979 41.0458334690001 GEOGCS[\\\"GCS_WGS_1984\\\",DATUM[\\\"D_WGS_1984\\\",SPHEROID[\\\"WGS_1984\\\",6378137.0,298.257223563]],PRIMEM[\\\"Greenwich\\\",0.0],UNIT[\\\"Degree\\\",0.0174532925199433]]\").save(output)\n",
    "    except:\n",
    "        pass"
   ]
  },
  {
   "cell_type": "code",
   "execution_count": null,
   "metadata": {},
   "outputs": [],
   "source": [
    "# 2. Convert Raster to Polygon\n",
    "\n",
    "# To allow overwriting outputs change overwriteOutput option to True.\n",
    "arcpy.env.overwriteOutput = False\n",
    "input_TJ = arcpy.Raster(\"F182013_TJ\")\n",
    "\n",
    "# Process: Conversion Raster to Polygon \n",
    "output_TJPolygon = \"D:\\\\ArcGIS project\\\\A01V04 NLD\\\\A01V04 NLD\\\\A01V04 NLD.gdb\\\\F182013_TJPolygon\"\n",
    "arcpy.conversion.RasterToPolygon(in_raster=input_TJ, out_polygon_features=output_TJPolygon, simplify=\"NO_SIMPLIFY\")"
   ]
  },
  {
   "cell_type": "code",
   "execution_count": null,
   "metadata": {},
   "outputs": [],
   "source": [
    "# 5. Clip the grid to country shape\n",
    "input_f = \"Grid\"\n",
    "clip_f = \"F182013_TJPolygon\"\n",
    "\n",
    "# Process: Clip \n",
    "Grid_TJ = \"D:\\\\ArcGIS project\\\\A01V04 NLD\\\\A01V04 NLD\\\\A01V04 NLD.gdb\\\\Grid_TJ\"\n",
    "arcpy.analysis.Clip(in_features=input_f, clip_features=clip_f, out_feature_class=Grid_TJ)"
   ]
  },
  {
   "cell_type": "code",
   "execution_count": null,
   "metadata": {},
   "outputs": [],
   "source": [
    "# 6. Zonal statistics table by grid\n",
    "for i in list:\n",
    "    try:\n",
    "        Grid_TJ = \"Grid_TJ\"\n",
    "        input_raster = arcpy.Raster(\"F\"+str(i)+\"_TJ\")\n",
    "        \n",
    "        output = \"D:\\\\ArcGIS project\\\\A01V04 NLD\\\\A01V04 NLD\\\\NLD TJ\\\\Zonal statistics by grid\\\\F\"+str(i)+\"_Gridstat_TJ.dbf\"\n",
    "        arcpy.sa.ZonalStatisticsAsTable(Grid_TJ, \"OBJECTID\", input_raster, output, \"DATA\", \"MEAN\", \"CURRENT_SLICE\", 90, \"AUTO_DETECT\", \"ARITHMETIC\", 360)\n",
    "    except:\n",
    "        pass"
   ]
  }
 ],
 "metadata": {
  "kernelspec": {
   "display_name": "Python 3 (ipykernel)",
   "language": "python",
   "name": "python3"
  },
  "language_info": {
   "codemirror_mode": {
    "name": "ipython",
    "version": 3
   },
   "file_extension": ".py",
   "mimetype": "text/x-python",
   "name": "python",
   "nbconvert_exporter": "python",
   "pygments_lexer": "ipython3",
   "version": "3.11.1"
  }
 },
 "nbformat": 4,
 "nbformat_minor": 2
}
